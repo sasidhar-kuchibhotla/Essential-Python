{
 "cells": [
  {
   "cell_type": "markdown",
   "metadata": {},
   "source": [
    "### Python Session :)\n",
    "\n",
    "- Edit Mode (click Esc)-> B to add new cell below & A to add new cell above\n",
    "- CTRL + / to comment at once"
   ]
  },
  {
   "cell_type": "markdown",
   "metadata": {},
   "source": [
    "## Session 1"
   ]
  },
  {
   "cell_type": "code",
   "execution_count": 12,
   "metadata": {
    "scrolled": true
   },
   "outputs": [
    {
     "name": "stdout",
     "output_type": "stream",
     "text": [
      "hi\n",
      "25\n",
      "200 200\n",
      "200 100\n",
      "100 200\n"
     ]
    }
   ],
   "source": [
    "#Declaring a variable\n",
    "\n",
    "print(\"hi\")\n",
    "print(5**2)\n",
    "\n",
    "num1 = num2 = 200\n",
    "print(num1,num2)\n",
    "\n",
    "num1,num2 = 200,100\n",
    "print(num1,num2)\n",
    "\n",
    "#Swap the values\n",
    "num1,num2 = num2,num1\n",
    "print(num1,num2)"
   ]
  },
  {
   "cell_type": "code",
   "execution_count": null,
   "metadata": {},
   "outputs": [],
   "source": [
    "Data Types in Python:\n",
    "    int                 #Immutable\n",
    "    float               #Immutable\n",
    "    list []             #mutable \n",
    "    tuple ()            #immutable\n",
    "    str - ''  \"\"  \"\" \"  #Immutable\n",
    "    dict {key:value}    #mutable\n",
    "    set  {}             #mutable\n",
    "    bool True False     #immutable\n",
    "    \n",
    "    \n",
    "Itterable Datatypes in Python: list, tuple, str, dict,set"
   ]
  },
  {
   "cell_type": "code",
   "execution_count": null,
   "metadata": {},
   "outputs": [],
   "source": [
    "Declaring a variable\n",
    "var_name = value\n",
    "name = \"ABC\"\n",
    "\n",
    "type(name)"
   ]
  },
  {
   "cell_type": "markdown",
   "metadata": {},
   "source": [
    "## Session 2"
   ]
  },
  {
   "cell_type": "code",
   "execution_count": 96,
   "metadata": {},
   "outputs": [
    {
     "name": "stdout",
     "output_type": "stream",
     "text": [
      "[10, 20, 30, 40] 1515134705032\n",
      "[10, 20, 30, 40, 50] 1515134705032\n"
     ]
    }
   ],
   "source": [
    "#Immutatable: If I am not able to change the value at the same location \n",
    "#Mutable: If I am able to change the value at the same memory location\n",
    "    \n",
    "l = [10,20,30,40]\n",
    "print(l,id(l))\n",
    "l.append(50)\n",
    "print(l,id(l))\n",
    "     \n",
    "#list is mutable   \n",
    "\n",
    "#Mutable: Methods to add/update and delete\n",
    "#Immutable: No methods to add/update and delete"
   ]
  },
  {
   "cell_type": "code",
   "execution_count": 2,
   "metadata": {
    "scrolled": true
   },
   "outputs": [
    {
     "name": "stdout",
     "output_type": "stream",
     "text": [
      "python 1515087100080\n",
      "java 1515076227184\n"
     ]
    }
   ],
   "source": [
    "s=\"python\"\n",
    "print(s,id(s))\n",
    "s=\"java\"\n",
    "print(s,id(s))\n",
    "\n",
    "#String is immutable"
   ]
  },
  {
   "cell_type": "code",
   "execution_count": 5,
   "metadata": {},
   "outputs": [
    {
     "name": "stdout",
     "output_type": "stream",
     "text": [
      "257 1515118404048\n",
      "257 1515118403632\n",
      "1515076161840 1515076161840\n"
     ]
    }
   ],
   "source": [
    "num1 = 257\n",
    "print(num1,id(num1))\n",
    "\n",
    "num1 = 257\n",
    "print(num1,id(num1))\n",
    "\n",
    "# 0 - 256 same address above the value different address is allocated\n",
    "\n",
    "#Object intering\n",
    "s1 = \"abc\"\n",
    "s2 = \"abc\"\n",
    "print(id(s1),id(s2))"
   ]
  },
  {
   "cell_type": "code",
   "execution_count": 41,
   "metadata": {},
   "outputs": [
    {
     "name": "stdout",
     "output_type": "stream",
     "text": [
      "3.3333333333333335\n",
      "3\n",
      "1\n",
      "100\n",
      "True\n",
      "num in dice is False\n",
      "num not in dice is False\n",
      "True\n",
      "False\n",
      "False\n",
      "True\n",
      "100\n",
      "105\n",
      "110\n",
      "220\n",
      "True\n",
      "0b10\n",
      "0b11\n",
      "2\n",
      "3\n",
      "0\n",
      "16\n"
     ]
    }
   ],
   "source": [
    "#Operators:\n",
    "\n",
    "#1. Arithmatic Operators: +,-,*,/,//(floor division),** (power),% (Reminder)\n",
    "\n",
    "print(10/3)\n",
    "print(10//3) #Integer value/floor division\n",
    "print(10%3)  #Reminder\n",
    "print(10 ** 2)  #power\n",
    "\n",
    "\n",
    "\n",
    "\n",
    "#2. Comparision Operators: ==, !=, <,>,<=,>=   [Output will be True/False]\n",
    "\n",
    "d1 = {1:1,2:3}\n",
    "d2 = {1:1,2:3}\n",
    "print(d1 == d2)\n",
    "\n",
    "\n",
    "\n",
    "\n",
    "#3. Membership Operators: in & not in\n",
    "\n",
    "dice = [1,2,3,4,5,6]\n",
    "num = 8\n",
    "print(\"num in dice is\", num in dice)\n",
    "print(\"num not in dice is\", num in dice)\n",
    "#print(5 in 500)  #In place of 500, there should be collection of value like list,tuple,dict,set,str (iterable datatype)\n",
    "print('p' in 'python')  #it works bec it is colllection of characters\n",
    "\n",
    "d1 = {1:2,2:4,3:9}\n",
    "print(num in d1)  #It will search only in keys, not in value so output is False\n",
    "\n",
    "\n",
    "\n",
    "\n",
    "\n",
    "#4. Identity Operators: is & is not [is will compare the memory location not the value. value comparision can be done by ==]\n",
    "l1 = [10,20,30]\n",
    "l2 = [10,20,30]\n",
    "print(l1 is l2)\n",
    "\n",
    "num1 = 12\n",
    "num2 = 12\n",
    "print(num1 is num2)\n",
    "\n",
    "\n",
    "\n",
    "#5. Assignment Operators: =,+=,-=,/=,*=\n",
    "\n",
    "num1 = 100\n",
    "print(num1)\n",
    "num1= num1+5\n",
    "print(num1)\n",
    "   #OR\n",
    "num1 += 5\n",
    "print(num1)\n",
    "num1 *= 2\n",
    "print(num1)\n",
    "\n",
    "\n",
    "\n",
    "\n",
    "#6. Logical Operators: AND, or, not\n",
    "\n",
    "print( 5 == 5 or 6 != 1 and 5==5)\n",
    "\n",
    "\n",
    "#7. Bitwise Operators: &, |, >>, <<\n",
    "\n",
    "num1 = 2\n",
    "num2 = 3\n",
    "print(bin(num1))\n",
    "print(bin(num2))\n",
    "print(num1 & num2)\n",
    "print(num1 | num2)\n",
    "print(num1 >> num2)\n",
    "print(num1 << num2)\n",
    "\n"
   ]
  },
  {
   "cell_type": "code",
   "execution_count": null,
   "metadata": {},
   "outputs": [],
   "source": [
    "#Conditional Statements:\n",
    "\n",
    "#If Conditions\n",
    "\n",
    "if [condition]:\n",
    "    statements  #<four space>\n",
    "elif [condition]:\n",
    "    statements\n",
    "else:\n",
    "    statements"
   ]
  },
  {
   "cell_type": "code",
   "execution_count": 43,
   "metadata": {},
   "outputs": [
    {
     "name": "stdout",
     "output_type": "stream",
     "text": [
      "Num2 is greater than Num1\n"
     ]
    }
   ],
   "source": [
    "num1 = 100\n",
    "num2 = 200\n",
    "\n",
    "if num1 > num2:\n",
    "    print(\"Num1 is greater than Num2\")\n",
    "elif num2 > num1:\n",
    "    print(\"Num2 is greater than Num1\")\n",
    "else:\n",
    "    print(\"Num1 and Num2 are equal\")"
   ]
  },
  {
   "cell_type": "code",
   "execution_count": 44,
   "metadata": {},
   "outputs": [
    {
     "name": "stdout",
     "output_type": "stream",
     "text": [
      "60.0\n",
      "Pass\n"
     ]
    }
   ],
   "source": [
    "total_marks = 500\n",
    "marks_scored = 300\n",
    "passing_score = 35\n",
    "per = (marks_scored/total_marks)*100\n",
    "print(per)\n",
    "\n",
    "\n",
    "if per > passing_score:\n",
    "    print(\"Pass\")\n",
    "else:\n",
    "    print(\"Fail\")\n"
   ]
  },
  {
   "cell_type": "code",
   "execution_count": 48,
   "metadata": {},
   "outputs": [
    {
     "name": "stdout",
     "output_type": "stream",
     "text": [
      "Even\n"
     ]
    }
   ],
   "source": [
    "num = 44\n",
    "if num % 2 == 0:\n",
    "    print(\"Even\")\n",
    "else:\n",
    "    print(\"odd\")"
   ]
  },
  {
   "cell_type": "code",
   "execution_count": 56,
   "metadata": {},
   "outputs": [
    {
     "name": "stdout",
     "output_type": "stream",
     "text": [
      "not vowels\n"
     ]
    }
   ],
   "source": [
    "char = 'b'\n",
    "if char in ('a','e','i','o','u'):\n",
    "    print(\"vowels\")\n",
    "else:\n",
    "    print(\"not vowels\")"
   ]
  },
  {
   "cell_type": "markdown",
   "metadata": {},
   "source": [
    "## Session 3"
   ]
  },
  {
   "cell_type": "code",
   "execution_count": 61,
   "metadata": {},
   "outputs": [
    {
     "name": "stdout",
     "output_type": "stream",
     "text": [
      "x\n",
      "['Sasi']\n"
     ]
    }
   ],
   "source": [
    "if \"x\":\n",
    "    print(\"x\")\n",
    "else:\n",
    "    print(\"y\")\n",
    "    \n",
    "# Zero value, 0, \"\", [], {} None -> Output will be False\n",
    "# Non-Zero value, 45, \"Python\", [10,20,30,40] -> Output will be True\n",
    "\n",
    "l=[\"Sasi\"]\n",
    "if l:\n",
    "    print(l)\n",
    "else:\n",
    "    print(\"List is Empty\")"
   ]
  },
  {
   "cell_type": "markdown",
   "metadata": {},
   "source": [
    "## Session 4"
   ]
  },
  {
   "cell_type": "code",
   "execution_count": 67,
   "metadata": {},
   "outputs": [
    {
     "name": "stdout",
     "output_type": "stream",
     "text": [
      "pass\n",
      "pass\n",
      "pass\n",
      "pass\n",
      "pass\n",
      "Python\n"
     ]
    }
   ],
   "source": [
    "# Looping Statements:  For    While       [No dowhile loop in Python]\n",
    "\n",
    "total_marks = 500\n",
    "passing_score = 35\n",
    "marks_scored = [300,250,450,497,500]\n",
    "\n",
    "# for [user_defined_variable] in [iterable_datatypes]:\n",
    "#     statements\n",
    "    \n",
    "for marks in marks_scored:\n",
    "    #print(marks)\n",
    "    per = (marks/total_marks)*100\n",
    "    if per>35:\n",
    "        print(\"pass\")\n",
    "    else:\n",
    "        print(\"fail\")\n",
    "print(\"Python\") #this will print only one time as this is out of for loop as it's not inside the intendation\n",
    "\n"
   ]
  },
  {
   "cell_type": "code",
   "execution_count": 74,
   "metadata": {},
   "outputs": [
    {
     "name": "stdout",
     "output_type": "stream",
     "text": [
      "150\n"
     ]
    }
   ],
   "source": [
    "nums = [10,20,30,40,50]\n",
    "total = 0\n",
    "for n in nums:\n",
    "    total += n\n",
    "print(total)"
   ]
  },
  {
   "cell_type": "code",
   "execution_count": 75,
   "metadata": {},
   "outputs": [
    {
     "name": "stdout",
     "output_type": "stream",
     "text": [
      "4 8\n"
     ]
    }
   ],
   "source": [
    "vowels_count = 0\n",
    "consonent_count = 0\n",
    "chars = \"Pythoniseasy\"\n",
    "for char in chars:\n",
    "    if char in ['a','e','i','o','u','A','E','I','O','U']:\n",
    "        vowels_count+=1\n",
    "    else:\n",
    "        consonent_count +=1\n",
    "print(vowels_count,consonent_count)\n",
    "    "
   ]
  },
  {
   "cell_type": "code",
   "execution_count": null,
   "metadata": {},
   "outputs": [],
   "source": [
    "range(10) : 0,1,2,3,4,5,6,7,8,9\n",
    "range(10,50) : 10,11,12,.....49\n",
    "range(10,50,5) : 10,15,20,25....45"
   ]
  },
  {
   "cell_type": "code",
   "execution_count": 79,
   "metadata": {},
   "outputs": [
    {
     "name": "stdout",
     "output_type": "stream",
     "text": [
      "10\n",
      "15\n",
      "20\n",
      "25\n",
      "30\n",
      "35\n",
      "40\n",
      "45\n"
     ]
    }
   ],
   "source": [
    "#for value in range(10):\n",
    "for value in range(10,50,5):\n",
    "    print(value)"
   ]
  },
  {
   "cell_type": "code",
   "execution_count": 80,
   "metadata": {},
   "outputs": [
    {
     "name": "stdout",
     "output_type": "stream",
     "text": [
      "1\n",
      "2\n",
      "17\n",
      "34\n"
     ]
    }
   ],
   "source": [
    "num = 34\n",
    "for value in range(1,num+1):\n",
    "    if num % value == 0:\n",
    "        print(value)\n",
    "        "
   ]
  },
  {
   "cell_type": "code",
   "execution_count": 84,
   "metadata": {},
   "outputs": [
    {
     "name": "stdout",
     "output_type": "stream",
     "text": [
      "Perfect Number\n"
     ]
    }
   ],
   "source": [
    "num = 28\n",
    "total = 0\n",
    "for value in range(1,num):\n",
    "    if num % value ==0:\n",
    "        total += value\n",
    "\n",
    "if total == num:\n",
    "    print(\"Perfect Number\")\n",
    "else:\n",
    "    print(\"Not Perfect Number\")\n"
   ]
  },
  {
   "cell_type": "code",
   "execution_count": 94,
   "metadata": {},
   "outputs": [
    {
     "name": "stdout",
     "output_type": "stream",
     "text": [
      "Not Found\n"
     ]
    }
   ],
   "source": [
    "#break\n",
    "#continue\n",
    "\n",
    "nums = range(10,100)\n",
    "key = 500\n",
    "for num in nums:\n",
    "    if num == key:\n",
    "        print(\"Number Found\")\n",
    "        break\n",
    "else:\n",
    "    print(\"Not Found\")"
   ]
  },
  {
   "cell_type": "markdown",
   "metadata": {},
   "source": [
    "## Session 5"
   ]
  },
  {
   "cell_type": "code",
   "execution_count": 98,
   "metadata": {},
   "outputs": [
    {
     "name": "stdout",
     "output_type": "stream",
     "text": [
      "30\n",
      "30\n"
     ]
    }
   ],
   "source": [
    "for value in [10,20,30,40,50]:\n",
    "    if value == 30:\n",
    "        print(value)\n",
    "        break\n",
    "    else:\n",
    "        continue  \n",
    "    print(value) #unreachable code as continue will return the value again into the loop"
   ]
  },
  {
   "cell_type": "code",
   "execution_count": 100,
   "metadata": {},
   "outputs": [
    {
     "ename": "TypeError",
     "evalue": "'str' object cannot be interpreted as an integer",
     "output_type": "error",
     "traceback": [
      "\u001b[1;31m---------------------------------------------------------------------------\u001b[0m",
      "\u001b[1;31mTypeError\u001b[0m                                 Traceback (most recent call last)",
      "\u001b[1;32m<ipython-input-100-fcb8f41b58e1>\u001b[0m in \u001b[0;36m<module>\u001b[1;34m\u001b[0m\n\u001b[1;32m----> 1\u001b[1;33m \u001b[0mprint\u001b[0m\u001b[1;33m(\u001b[0m\u001b[0mrange\u001b[0m\u001b[1;33m(\u001b[0m\u001b[1;34m'a'\u001b[0m\u001b[1;33m,\u001b[0m\u001b[1;34m'z'\u001b[0m\u001b[1;33m)\u001b[0m\u001b[1;33m)\u001b[0m\u001b[1;33m\u001b[0m\u001b[1;33m\u001b[0m\u001b[0m\n\u001b[0m",
      "\u001b[1;31mTypeError\u001b[0m: 'str' object cannot be interpreted as an integer"
     ]
    }
   ],
   "source": [
    "print(range('a','z')) #it won't print"
   ]
  },
  {
   "cell_type": "code",
   "execution_count": 103,
   "metadata": {},
   "outputs": [
    {
     "name": "stdout",
     "output_type": "stream",
     "text": [
      "97 122\n",
      "a z\n"
     ]
    }
   ],
   "source": [
    "print(ord('a'),ord('z')) #ascii value\n",
    "print(chr(97),chr(122))  #reverse of ascii value"
   ]
  },
  {
   "cell_type": "code",
   "execution_count": 112,
   "metadata": {
    "scrolled": true
   },
   "outputs": [
    {
     "name": "stdout",
     "output_type": "stream",
     "text": [
      "a b c d e f g h i j k l m n o p q r s t u v w x y z "
     ]
    }
   ],
   "source": [
    "for value in range(ord('a'),ord('z')+1):\n",
    "    print(chr(value), end=\" \")          #end: to provide output in one single line, if you don't want remove it"
   ]
  },
  {
   "cell_type": "code",
   "execution_count": 117,
   "metadata": {},
   "outputs": [
    {
     "name": "stdout",
     "output_type": "stream",
     "text": [
      "Number Found 4\n"
     ]
    }
   ],
   "source": [
    "#enumerate gives index & value\n",
    "\n",
    "\n",
    "nums = range(10,100,10)\n",
    "key = 50\n",
    "for index,num in enumerate(nums):\n",
    "    #print(index,num)\n",
    "    if num == key:\n",
    "        print(\"Number Found\",index)\n",
    "        break\n",
    "else:\n",
    "    print(\"Not Found\")"
   ]
  },
  {
   "cell_type": "code",
   "execution_count": null,
   "metadata": {},
   "outputs": [],
   "source": [
    "#While Loop\n",
    "\n",
    "#for is for finite number of loops\n",
    "#while is for infinite number of loops until the condition is True\n",
    "\n",
    "\n",
    "while [condition]:   #condition should be True/False. Enters loop only if condition is True then execute statements\n",
    "    statements"
   ]
  },
  {
   "cell_type": "code",
   "execution_count": 1,
   "metadata": {},
   "outputs": [
    {
     "name": "stdout",
     "output_type": "stream",
     "text": [
      "120\n"
     ]
    }
   ],
   "source": [
    "#calculate facorial\n",
    "\n",
    "num = 5\n",
    "fact = 1\n",
    "\n",
    "while num > 1:\n",
    "    fact = fact * num\n",
    "    num = num - 1\n",
    "print(fact) "
   ]
  },
  {
   "cell_type": "code",
   "execution_count": null,
   "metadata": {},
   "outputs": [],
   "source": [
    "#Data Types:\n",
    "\n",
    "Strings...!!\n",
    "\n",
    "- ''  \" \" \"\"\"\" \"\"\"\"\n",
    "- Immutatable: No methods to add/update/delete\n",
    "- Iterable\n",
    "- Indexing (can bring char to char starting from 0)   Ex: Python : Index of char 't' is 2\n",
    "- Slicing - Multiple string instead of Indexing Ex: if you want to extract 'Python' from \"Hello Python\""
   ]
  },
  {
   "cell_type": "code",
   "execution_count": 22,
   "metadata": {},
   "outputs": [
    {
     "name": "stdout",
     "output_type": "stream",
     "text": [
      "p\n",
      "a\n",
      "Slicing example-- Learning\n",
      "Lann\n",
      "Lann yhni ay\n",
      "ya inhy nnaL\n",
      "\n",
      "on is ea\n"
     ]
    }
   ],
   "source": [
    "#indexing\n",
    "s = \"Learning python is easy\"\n",
    "print(s[9])\n",
    "print(s[-3])\n",
    "\n",
    "#Slicing\n",
    "print(\"Slicing example--\",s[0:8])   #s[:8] it will assume starting point is 0. Can use anything\n",
    "                                    #s[2:] it will print till the end of string\n",
    "    \n",
    "#start:end:stride\n",
    "        #stride is used to skip the characters just like range. Default value is 1\n",
    "print(s[0:8:2])\n",
    "print(s[0::2])\n",
    "print(s[::-2])\n",
    "print(s[0:8:-1])\n",
    "print(s[-10:-2:1])\n",
    "\n",
    "#Always starts with stride:\n",
    "#  -1: right to left every char\n",
    "#  if stride is -ve your index should be from right to left only"
   ]
  },
  {
   "cell_type": "code",
   "execution_count": 24,
   "metadata": {},
   "outputs": [
    {
     "name": "stdout",
     "output_type": "stream",
     "text": [
      "'Python' is easy\n",
      "\"Python is \n",
      "easy\"\n"
     ]
    }
   ],
   "source": [
    "# Regarding single, double & triple code's in Python\n",
    "\n",
    "s = \"'Python' is easy\"\n",
    "print(s)\n",
    "\n",
    "ss = '''\"Python is \n",
    "easy\"'''\n",
    "print(ss)\n",
    "\n",
    "#help(str)"
   ]
  },
  {
   "cell_type": "code",
   "execution_count": 25,
   "metadata": {},
   "outputs": [
    {
     "name": "stdout",
     "output_type": "stream",
     "text": [
      "['Python', 'Java', 'C', 'C++']\n",
      "Python,Java,C,C++\n"
     ]
    }
   ],
   "source": [
    "#Split & Join\n",
    "\n",
    "s = \"Python,Java,C,C++\"\n",
    "l = s.split(\",\")\n",
    "print(l)\n",
    "\n",
    "s2 = (\",\").join(l)    #join to make it as string\n",
    "print(s2)\n"
   ]
  },
  {
   "cell_type": "code",
   "execution_count": 30,
   "metadata": {},
   "outputs": [
    {
     "name": "stdout",
     "output_type": "stream",
     "text": [
      "Vowel count is 10 and Consonent count is 20\n",
      "Vowel count is 20 and Consonent count is 10\n"
     ]
    }
   ],
   "source": [
    "#print option\n",
    "\n",
    "vowel_count = 10\n",
    "consonent_count = 20\n",
    "#print(\"Vowel count is\", vowel_count, \"Consonent count is\", consonent_count)\n",
    "print(\"Vowel count is {} and Consonent count is {}\".format(vowel_count,consonent_count))\n",
    "print(\"Vowel count is {1} and Consonent count is {0}\".format(vowel_count,consonent_count))"
   ]
  }
 ],
 "metadata": {
  "kernelspec": {
   "display_name": "Python 3",
   "language": "python",
   "name": "python3"
  },
  "language_info": {
   "codemirror_mode": {
    "name": "ipython",
    "version": 3
   },
   "file_extension": ".py",
   "mimetype": "text/x-python",
   "name": "python",
   "nbconvert_exporter": "python",
   "pygments_lexer": "ipython3",
   "version": "3.7.6"
  }
 },
 "nbformat": 4,
 "nbformat_minor": 4
}
