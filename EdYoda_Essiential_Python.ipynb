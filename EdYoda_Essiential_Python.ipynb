{
 "cells": [
  {
   "cell_type": "markdown",
   "metadata": {},
   "source": [
    "### Python Session :)\n",
    "\n",
    "- Edit Mode (click Esc)-> B to add new cell below & A to add new cell above\n",
    "- CTRL + / to comment at once"
   ]
  },
  {
   "cell_type": "markdown",
   "metadata": {},
   "source": [
    "## Session 1"
   ]
  },
  {
   "cell_type": "code",
   "execution_count": 12,
   "metadata": {
    "scrolled": true
   },
   "outputs": [
    {
     "name": "stdout",
     "output_type": "stream",
     "text": [
      "hi\n",
      "25\n",
      "200 200\n",
      "200 100\n",
      "100 200\n"
     ]
    }
   ],
   "source": [
    "#Declaring a variable\n",
    "\n",
    "print(\"hi\")\n",
    "print(5**2)\n",
    "\n",
    "num1 = num2 = 200\n",
    "print(num1,num2)\n",
    "\n",
    "num1,num2 = 200,100\n",
    "print(num1,num2)\n",
    "\n",
    "#Swap the values\n",
    "num1,num2 = num2,num1\n",
    "print(num1,num2)"
   ]
  },
  {
   "cell_type": "code",
   "execution_count": null,
   "metadata": {},
   "outputs": [],
   "source": [
    "Data Types in Python:\n",
    "    int                 #Immutable\n",
    "    float               #Immutable\n",
    "    list []             #mutable \n",
    "    tuple ()            #immutable\n",
    "    str - ''  \"\"  \"\" \"  #Immutable\n",
    "    dict {key:value}    #mutable\n",
    "    set  {}             #mutable\n",
    "    bool True False     #immutable\n",
    "    \n",
    "    \n",
    "Itterable Datatypes in Python: list, tuple, str, dict,set"
   ]
  },
  {
   "cell_type": "code",
   "execution_count": null,
   "metadata": {},
   "outputs": [],
   "source": [
    "Declaring a variable\n",
    "var_name = value\n",
    "name = \"ABC\"\n",
    "\n",
    "type(name)"
   ]
  },
  {
   "cell_type": "markdown",
   "metadata": {},
   "source": [
    "## Session 2"
   ]
  },
  {
   "cell_type": "code",
   "execution_count": 96,
   "metadata": {},
   "outputs": [
    {
     "name": "stdout",
     "output_type": "stream",
     "text": [
      "[10, 20, 30, 40] 1515134705032\n",
      "[10, 20, 30, 40, 50] 1515134705032\n"
     ]
    }
   ],
   "source": [
    "#Immutatable: If I am not able to change the value at the same location \n",
    "#Mutable: If I am able to change the value at the same memory location\n",
    "    \n",
    "l = [10,20,30,40]\n",
    "print(l,id(l))\n",
    "l.append(50)\n",
    "print(l,id(l))\n",
    "     \n",
    "#list is mutable   \n",
    "\n",
    "#Mutable: Methods to add/update and delete\n",
    "#Immutable: No methods to add/update and delete"
   ]
  },
  {
   "cell_type": "code",
   "execution_count": 2,
   "metadata": {
    "scrolled": true
   },
   "outputs": [
    {
     "name": "stdout",
     "output_type": "stream",
     "text": [
      "python 1515087100080\n",
      "java 1515076227184\n"
     ]
    }
   ],
   "source": [
    "s=\"python\"\n",
    "print(s,id(s))\n",
    "s=\"java\"\n",
    "print(s,id(s))\n",
    "\n",
    "#String is immutable"
   ]
  },
  {
   "cell_type": "code",
   "execution_count": 5,
   "metadata": {},
   "outputs": [
    {
     "name": "stdout",
     "output_type": "stream",
     "text": [
      "257 1515118404048\n",
      "257 1515118403632\n",
      "1515076161840 1515076161840\n"
     ]
    }
   ],
   "source": [
    "num1 = 257\n",
    "print(num1,id(num1))\n",
    "\n",
    "num1 = 257\n",
    "print(num1,id(num1))\n",
    "\n",
    "# 0 - 256 same address above the value different address is allocated\n",
    "\n",
    "#Object intering\n",
    "s1 = \"abc\"\n",
    "s2 = \"abc\"\n",
    "print(id(s1),id(s2))"
   ]
  },
  {
   "cell_type": "code",
   "execution_count": 41,
   "metadata": {},
   "outputs": [
    {
     "name": "stdout",
     "output_type": "stream",
     "text": [
      "3.3333333333333335\n",
      "3\n",
      "1\n",
      "100\n",
      "True\n",
      "num in dice is False\n",
      "num not in dice is False\n",
      "True\n",
      "False\n",
      "False\n",
      "True\n",
      "100\n",
      "105\n",
      "110\n",
      "220\n",
      "True\n",
      "0b10\n",
      "0b11\n",
      "2\n",
      "3\n",
      "0\n",
      "16\n"
     ]
    }
   ],
   "source": [
    "#Operators:\n",
    "\n",
    "#1. Arithmatic Operators: +,-,*,/,//(floor division),** (power),% (Reminder)\n",
    "\n",
    "print(10/3)\n",
    "print(10//3) #Integer value/floor division\n",
    "print(10%3)  #Reminder\n",
    "print(10 ** 2)  #power\n",
    "\n",
    "\n",
    "\n",
    "\n",
    "#2. Comparision Operators: ==, !=, <,>,<=,>=   [Output will be True/False]\n",
    "\n",
    "d1 = {1:1,2:3}\n",
    "d2 = {1:1,2:3}\n",
    "print(d1 == d2)\n",
    "\n",
    "\n",
    "\n",
    "\n",
    "#3. Membership Operators: in & not in\n",
    "\n",
    "dice = [1,2,3,4,5,6]\n",
    "num = 8\n",
    "print(\"num in dice is\", num in dice)\n",
    "print(\"num not in dice is\", num in dice)\n",
    "#print(5 in 500)  #In place of 500, there should be collection of value like list,tuple,dict,set,str (iterable datatype)\n",
    "print('p' in 'python')  #it works bec it is colllection of characters\n",
    "\n",
    "d1 = {1:2,2:4,3:9}\n",
    "print(num in d1)  #It will search only in keys, not in value so output is False\n",
    "\n",
    "\n",
    "\n",
    "\n",
    "\n",
    "#4. Identity Operators: is & is not [is will compare the memory location not the value. value comparision can be done by ==]\n",
    "l1 = [10,20,30]\n",
    "l2 = [10,20,30]\n",
    "print(l1 is l2)\n",
    "\n",
    "num1 = 12\n",
    "num2 = 12\n",
    "print(num1 is num2)\n",
    "\n",
    "\n",
    "\n",
    "#5. Assignment Operators: =,+=,-=,/=,*=\n",
    "\n",
    "num1 = 100\n",
    "print(num1)\n",
    "num1= num1+5\n",
    "print(num1)\n",
    "   #OR\n",
    "num1 += 5\n",
    "print(num1)\n",
    "num1 *= 2\n",
    "print(num1)\n",
    "\n",
    "\n",
    "\n",
    "\n",
    "#6. Logical Operators: AND, or, not\n",
    "\n",
    "print( 5 == 5 or 6 != 1 and 5==5)\n",
    "\n",
    "\n",
    "#7. Bitwise Operators: &, |, >>, <<\n",
    "\n",
    "num1 = 2\n",
    "num2 = 3\n",
    "print(bin(num1))\n",
    "print(bin(num2))\n",
    "print(num1 & num2)\n",
    "print(num1 | num2)\n",
    "print(num1 >> num2)\n",
    "print(num1 << num2)\n",
    "\n"
   ]
  },
  {
   "cell_type": "code",
   "execution_count": null,
   "metadata": {},
   "outputs": [],
   "source": [
    "#Conditional Statements:\n",
    "\n",
    "#If Conditions\n",
    "\n",
    "if [condition]:\n",
    "    statements  #<four space>\n",
    "elif [condition]:\n",
    "    statements\n",
    "else:\n",
    "    statements"
   ]
  },
  {
   "cell_type": "code",
   "execution_count": 43,
   "metadata": {},
   "outputs": [
    {
     "name": "stdout",
     "output_type": "stream",
     "text": [
      "Num2 is greater than Num1\n"
     ]
    }
   ],
   "source": [
    "num1 = 100\n",
    "num2 = 200\n",
    "\n",
    "if num1 > num2:\n",
    "    print(\"Num1 is greater than Num2\")\n",
    "elif num2 > num1:\n",
    "    print(\"Num2 is greater than Num1\")\n",
    "else:\n",
    "    print(\"Num1 and Num2 are equal\")"
   ]
  },
  {
   "cell_type": "code",
   "execution_count": 44,
   "metadata": {},
   "outputs": [
    {
     "name": "stdout",
     "output_type": "stream",
     "text": [
      "60.0\n",
      "Pass\n"
     ]
    }
   ],
   "source": [
    "total_marks = 500\n",
    "marks_scored = 300\n",
    "passing_score = 35\n",
    "per = (marks_scored/total_marks)*100\n",
    "print(per)\n",
    "\n",
    "\n",
    "if per > passing_score:\n",
    "    print(\"Pass\")\n",
    "else:\n",
    "    print(\"Fail\")\n"
   ]
  },
  {
   "cell_type": "code",
   "execution_count": 48,
   "metadata": {},
   "outputs": [
    {
     "name": "stdout",
     "output_type": "stream",
     "text": [
      "Even\n"
     ]
    }
   ],
   "source": [
    "num = 44\n",
    "if num % 2 == 0:\n",
    "    print(\"Even\")\n",
    "else:\n",
    "    print(\"odd\")"
   ]
  },
  {
   "cell_type": "code",
   "execution_count": 56,
   "metadata": {},
   "outputs": [
    {
     "name": "stdout",
     "output_type": "stream",
     "text": [
      "not vowels\n"
     ]
    }
   ],
   "source": [
    "char = 'b'\n",
    "if char in ('a','e','i','o','u'):\n",
    "    print(\"vowels\")\n",
    "else:\n",
    "    print(\"not vowels\")"
   ]
  },
  {
   "cell_type": "markdown",
   "metadata": {},
   "source": [
    "## Session 3"
   ]
  },
  {
   "cell_type": "code",
   "execution_count": 61,
   "metadata": {},
   "outputs": [
    {
     "name": "stdout",
     "output_type": "stream",
     "text": [
      "x\n",
      "['Sasi']\n"
     ]
    }
   ],
   "source": [
    "if \"x\":\n",
    "    print(\"x\")\n",
    "else:\n",
    "    print(\"y\")\n",
    "    \n",
    "# Zero value, 0, \"\", [], {} None -> Output will be False\n",
    "# Non-Zero value, 45, \"Python\", [10,20,30,40] -> Output will be True\n",
    "\n",
    "l=[\"Sasi\"]\n",
    "if l:\n",
    "    print(l)\n",
    "else:\n",
    "    print(\"List is Empty\")"
   ]
  },
  {
   "cell_type": "markdown",
   "metadata": {},
   "source": [
    "## Session 4"
   ]
  },
  {
   "cell_type": "code",
   "execution_count": 67,
   "metadata": {},
   "outputs": [
    {
     "name": "stdout",
     "output_type": "stream",
     "text": [
      "pass\n",
      "pass\n",
      "pass\n",
      "pass\n",
      "pass\n",
      "Python\n"
     ]
    }
   ],
   "source": [
    "# Looping Statements:  For    While       [No dowhile loop in Python]\n",
    "\n",
    "total_marks = 500\n",
    "passing_score = 35\n",
    "marks_scored = [300,250,450,497,500]\n",
    "\n",
    "# for [user_defined_variable] in [iterable_datatypes]:\n",
    "#     statements\n",
    "    \n",
    "for marks in marks_scored:\n",
    "    #print(marks)\n",
    "    per = (marks/total_marks)*100\n",
    "    if per>35:\n",
    "        print(\"pass\")\n",
    "    else:\n",
    "        print(\"fail\")\n",
    "print(\"Python\") #this will print only one time as this is out of for loop as it's not inside the intendation\n",
    "\n"
   ]
  },
  {
   "cell_type": "code",
   "execution_count": 74,
   "metadata": {},
   "outputs": [
    {
     "name": "stdout",
     "output_type": "stream",
     "text": [
      "150\n"
     ]
    }
   ],
   "source": [
    "nums = [10,20,30,40,50]\n",
    "total = 0\n",
    "for n in nums:\n",
    "    total += n\n",
    "print(total)"
   ]
  },
  {
   "cell_type": "code",
   "execution_count": 75,
   "metadata": {},
   "outputs": [
    {
     "name": "stdout",
     "output_type": "stream",
     "text": [
      "4 8\n"
     ]
    }
   ],
   "source": [
    "vowels_count = 0\n",
    "consonent_count = 0\n",
    "chars = \"Pythoniseasy\"\n",
    "for char in chars:\n",
    "    if char in ['a','e','i','o','u','A','E','I','O','U']:\n",
    "        vowels_count+=1\n",
    "    else:\n",
    "        consonent_count +=1\n",
    "print(vowels_count,consonent_count)\n",
    "    "
   ]
  },
  {
   "cell_type": "code",
   "execution_count": null,
   "metadata": {},
   "outputs": [],
   "source": [
    "range(10) : 0,1,2,3,4,5,6,7,8,9\n",
    "range(10,50) : 10,11,12,.....49\n",
    "range(10,50,5) : 10,15,20,25....45"
   ]
  },
  {
   "cell_type": "code",
   "execution_count": 79,
   "metadata": {},
   "outputs": [
    {
     "name": "stdout",
     "output_type": "stream",
     "text": [
      "10\n",
      "15\n",
      "20\n",
      "25\n",
      "30\n",
      "35\n",
      "40\n",
      "45\n"
     ]
    }
   ],
   "source": [
    "#for value in range(10):\n",
    "for value in range(10,50,5):\n",
    "    print(value)"
   ]
  },
  {
   "cell_type": "code",
   "execution_count": 80,
   "metadata": {},
   "outputs": [
    {
     "name": "stdout",
     "output_type": "stream",
     "text": [
      "1\n",
      "2\n",
      "17\n",
      "34\n"
     ]
    }
   ],
   "source": [
    "num = 34\n",
    "for value in range(1,num+1):\n",
    "    if num % value == 0:\n",
    "        print(value)\n",
    "        "
   ]
  },
  {
   "cell_type": "code",
   "execution_count": 84,
   "metadata": {},
   "outputs": [
    {
     "name": "stdout",
     "output_type": "stream",
     "text": [
      "Perfect Number\n"
     ]
    }
   ],
   "source": [
    "num = 28\n",
    "total = 0\n",
    "for value in range(1,num):\n",
    "    if num % value ==0:\n",
    "        total += value\n",
    "\n",
    "if total == num:\n",
    "    print(\"Perfect Number\")\n",
    "else:\n",
    "    print(\"Not Perfect Number\")\n"
   ]
  },
  {
   "cell_type": "code",
   "execution_count": 94,
   "metadata": {},
   "outputs": [
    {
     "name": "stdout",
     "output_type": "stream",
     "text": [
      "Not Found\n"
     ]
    }
   ],
   "source": [
    "#break\n",
    "#continue\n",
    "\n",
    "nums = range(10,100)\n",
    "key = 500\n",
    "for num in nums:\n",
    "    if num == key:\n",
    "        print(\"Number Found\")\n",
    "        break\n",
    "else:\n",
    "    print(\"Not Found\")"
   ]
  },
  {
   "cell_type": "markdown",
   "metadata": {},
   "source": [
    "## Session 5"
   ]
  },
  {
   "cell_type": "code",
   "execution_count": 98,
   "metadata": {},
   "outputs": [
    {
     "name": "stdout",
     "output_type": "stream",
     "text": [
      "30\n",
      "30\n"
     ]
    }
   ],
   "source": [
    "for value in [10,20,30,40,50]:\n",
    "    if value == 30:\n",
    "        print(value)\n",
    "        break\n",
    "    else:\n",
    "        continue  \n",
    "    print(value) #unreachable code as continue will return the value again into the loop"
   ]
  },
  {
   "cell_type": "code",
   "execution_count": 100,
   "metadata": {},
   "outputs": [
    {
     "ename": "TypeError",
     "evalue": "'str' object cannot be interpreted as an integer",
     "output_type": "error",
     "traceback": [
      "\u001b[1;31m---------------------------------------------------------------------------\u001b[0m",
      "\u001b[1;31mTypeError\u001b[0m                                 Traceback (most recent call last)",
      "\u001b[1;32m<ipython-input-100-fcb8f41b58e1>\u001b[0m in \u001b[0;36m<module>\u001b[1;34m\u001b[0m\n\u001b[1;32m----> 1\u001b[1;33m \u001b[0mprint\u001b[0m\u001b[1;33m(\u001b[0m\u001b[0mrange\u001b[0m\u001b[1;33m(\u001b[0m\u001b[1;34m'a'\u001b[0m\u001b[1;33m,\u001b[0m\u001b[1;34m'z'\u001b[0m\u001b[1;33m)\u001b[0m\u001b[1;33m)\u001b[0m\u001b[1;33m\u001b[0m\u001b[1;33m\u001b[0m\u001b[0m\n\u001b[0m",
      "\u001b[1;31mTypeError\u001b[0m: 'str' object cannot be interpreted as an integer"
     ]
    }
   ],
   "source": [
    "print(range('a','z')) #it won't print"
   ]
  },
  {
   "cell_type": "code",
   "execution_count": 103,
   "metadata": {},
   "outputs": [
    {
     "name": "stdout",
     "output_type": "stream",
     "text": [
      "97 122\n",
      "a z\n"
     ]
    }
   ],
   "source": [
    "print(ord('a'),ord('z')) #ascii value\n",
    "print(chr(97),chr(122))  #reverse of ascii value"
   ]
  },
  {
   "cell_type": "code",
   "execution_count": 112,
   "metadata": {
    "scrolled": true
   },
   "outputs": [
    {
     "name": "stdout",
     "output_type": "stream",
     "text": [
      "a b c d e f g h i j k l m n o p q r s t u v w x y z "
     ]
    }
   ],
   "source": [
    "for value in range(ord('a'),ord('z')+1):\n",
    "    print(chr(value), end=\" \")          #end: to provide output in one single line, if you don't want remove it"
   ]
  },
  {
   "cell_type": "code",
   "execution_count": 117,
   "metadata": {},
   "outputs": [
    {
     "name": "stdout",
     "output_type": "stream",
     "text": [
      "Number Found 4\n"
     ]
    }
   ],
   "source": [
    "#enumerate gives index & value\n",
    "\n",
    "\n",
    "nums = range(10,100,10)\n",
    "key = 50\n",
    "for index,num in enumerate(nums):\n",
    "    #print(index,num)\n",
    "    if num == key:\n",
    "        print(\"Number Found\",index)\n",
    "        break\n",
    "else:\n",
    "    print(\"Not Found\")"
   ]
  },
  {
   "cell_type": "code",
   "execution_count": null,
   "metadata": {},
   "outputs": [],
   "source": [
    "#While Loop\n",
    "\n",
    "#for is for finite number of loops\n",
    "#while is for infinite number of loops until the condition is True\n",
    "\n",
    "\n",
    "while [condition]:   #condition should be True/False. Enters loop only if condition is True then execute statements\n",
    "    statements"
   ]
  },
  {
   "cell_type": "code",
   "execution_count": 1,
   "metadata": {},
   "outputs": [
    {
     "name": "stdout",
     "output_type": "stream",
     "text": [
      "120\n"
     ]
    }
   ],
   "source": [
    "#calculate facorial\n",
    "\n",
    "num = 5\n",
    "fact = 1\n",
    "\n",
    "while num > 1:\n",
    "    fact = fact * num\n",
    "    num = num - 1\n",
    "print(fact) "
   ]
  },
  {
   "cell_type": "code",
   "execution_count": null,
   "metadata": {},
   "outputs": [],
   "source": [
    "#Data Types:\n",
    "\n",
    "Strings...!!\n",
    "\n",
    "- ''  \" \" \"\"\"\" \"\"\"\"\n",
    "- Immutatable: No methods to add/update/delete\n",
    "- Iterable\n",
    "- Indexing (can bring char to char starting from 0)   Ex: Python : Index of char 't' is 2\n",
    "- Slicing - Multiple string instead of Indexing Ex: if you want to extract 'Python' from \"Hello Python\""
   ]
  },
  {
   "cell_type": "code",
   "execution_count": 22,
   "metadata": {},
   "outputs": [
    {
     "name": "stdout",
     "output_type": "stream",
     "text": [
      "p\n",
      "a\n",
      "Slicing example-- Learning\n",
      "Lann\n",
      "Lann yhni ay\n",
      "ya inhy nnaL\n",
      "\n",
      "on is ea\n"
     ]
    }
   ],
   "source": [
    "#indexing\n",
    "s = \"Learning python is easy\"\n",
    "print(s[9])\n",
    "print(s[-3])\n",
    "\n",
    "#Slicing\n",
    "print(\"Slicing example--\",s[0:8])   #s[:8] it will assume starting point is 0. Can use anything\n",
    "                                    #s[2:] it will print till the end of string\n",
    "    \n",
    "#start:end:stride\n",
    "        #stride is used to skip the characters just like range. Default value is 1\n",
    "print(s[0:8:2])\n",
    "print(s[0::2])\n",
    "print(s[::-2])\n",
    "print(s[0:8:-1])\n",
    "print(s[-10:-2:1])\n",
    "\n",
    "#Always starts with stride:\n",
    "#  -1: right to left every char\n",
    "#  if stride is -ve your index should be from right to left only"
   ]
  },
  {
   "cell_type": "code",
   "execution_count": 24,
   "metadata": {},
   "outputs": [
    {
     "name": "stdout",
     "output_type": "stream",
     "text": [
      "'Python' is easy\n",
      "\"Python is \n",
      "easy\"\n"
     ]
    }
   ],
   "source": [
    "# Regarding single, double & triple code's in Python\n",
    "\n",
    "s = \"'Python' is easy\"\n",
    "print(s)\n",
    "\n",
    "ss = '''\"Python is \n",
    "easy\"'''\n",
    "print(ss)\n",
    "\n",
    "#help(str)\n",
    "#help(str.split)\n",
    "#dir(str)"
   ]
  },
  {
   "cell_type": "code",
   "execution_count": 25,
   "metadata": {},
   "outputs": [
    {
     "name": "stdout",
     "output_type": "stream",
     "text": [
      "['Python', 'Java', 'C', 'C++']\n",
      "Python,Java,C,C++\n"
     ]
    }
   ],
   "source": [
    "#Split & Join\n",
    "\n",
    "s = \"Python,Java,C,C++\"\n",
    "l = s.split(\",\")\n",
    "print(l)\n",
    "\n",
    "s2 = (\",\").join(l)    #join to make it as string\n",
    "print(s2)\n"
   ]
  },
  {
   "cell_type": "code",
   "execution_count": 30,
   "metadata": {
    "scrolled": true
   },
   "outputs": [
    {
     "name": "stdout",
     "output_type": "stream",
     "text": [
      "Vowel count is 10 and Consonent count is 20\n",
      "Vowel count is 20 and Consonent count is 10\n"
     ]
    }
   ],
   "source": [
    "#print option\n",
    "\n",
    "vowel_count = 10\n",
    "consonent_count = 20\n",
    "#print(\"Vowel count is\", vowel_count, \"Consonent count is\", consonent_count)\n",
    "print(\"Vowel count is {} and Consonent count is {}\".format(vowel_count,consonent_count))\n",
    "print(\"Vowel count is {1} and Consonent count is {0}\".format(vowel_count,consonent_count))"
   ]
  },
  {
   "cell_type": "markdown",
   "metadata": {},
   "source": [
    "## Session 6"
   ]
  },
  {
   "cell_type": "code",
   "execution_count": 1,
   "metadata": {},
   "outputs": [
    {
     "name": "stdout",
     "output_type": "stream",
     "text": [
      "You have received an request to check the assignment from abc@gmail.com abc\n"
     ]
    }
   ],
   "source": [
    "s = \"You have received an request to check the assignment from {email} {username}\"\n",
    "print(s.format(email = \"abc@gmail.com\", username = \"abc\"))"
   ]
  },
  {
   "cell_type": "code",
   "execution_count": 3,
   "metadata": {},
   "outputs": [
    {
     "name": "stdout",
     "output_type": "stream",
     "text": [
      "abc@xyz.com\n",
      "True\n",
      "False\n"
     ]
    }
   ],
   "source": [
    "#lower, upper, title, captalize\n",
    "#islower, isupper, istitle,iscaptalize\n",
    "\n",
    "email1 = \"abc@xyz.com\"\n",
    "email2 = \"ABC@xyz.com\"\n",
    "email3 = email2.lower()\n",
    "print(email3)\n",
    "print(email1 == email2.lower())\n",
    "\n",
    "\n",
    "print(email2.islower())\n",
    "#upper - \"PYTHON IS EASY\"\n",
    "#title - \"Python Is Easy\"\n",
    "#captalize - \"Python is easy\""
   ]
  },
  {
   "cell_type": "code",
   "execution_count": 6,
   "metadata": {},
   "outputs": [
    {
     "name": "stdout",
     "output_type": "stream",
     "text": [
      "12\n",
      "22\n",
      "-1\n"
     ]
    }
   ],
   "source": [
    "#count, find, replace\n",
    "\n",
    "s = \"Python Java C Python3 C++ Java8\"\n",
    "print(s.find(\"C\")) #For Strings, indexing starts for each character in the sentence\n",
    "print(s.find(\"C++\"))\n",
    "print(s.find(\"Ruby\"))  #if -1 is displayed then the word is not in the string"
   ]
  },
  {
   "cell_type": "code",
   "execution_count": 7,
   "metadata": {},
   "outputs": [
    {
     "name": "stdout",
     "output_type": "stream",
     "text": [
      "Exists\n"
     ]
    }
   ],
   "source": [
    "l = \"10 12 200 500 200\"\n",
    "result = l.find('20')\n",
    "if result!= -1:\n",
    "    print(\"Exists\")\n",
    "else:\n",
    "    print(\"Not Exists\")"
   ]
  },
  {
   "cell_type": "code",
   "execution_count": 20,
   "metadata": {
    "scrolled": true
   },
   "outputs": [
    {
     "ename": "SyntaxError",
     "evalue": "EOL while scanning string literal (<ipython-input-20-ad3065624efb>, line 4)",
     "output_type": "error",
     "traceback": [
      "\u001b[1;36m  File \u001b[1;32m\"<ipython-input-20-ad3065624efb>\"\u001b[1;36m, line \u001b[1;32m4\u001b[0m\n\u001b[1;33m    print(s.find(\"Python\",15\"))\u001b[0m\n\u001b[1;37m                               ^\u001b[0m\n\u001b[1;31mSyntaxError\u001b[0m\u001b[1;31m:\u001b[0m EOL while scanning string literal\n"
     ]
    }
   ],
   "source": [
    "#if I want to find from some specific index\n",
    "\n",
    "s = \"Python Python Java Python\"\n",
    "print(s.find(\"Python\",15\"))"
   ]
  },
  {
   "cell_type": "code",
   "execution_count": 24,
   "metadata": {},
   "outputs": [
    {
     "name": "stdout",
     "output_type": "stream",
     "text": [
      "Python 3.8 Python Java Python\n"
     ]
    }
   ],
   "source": [
    "#Replace python with Python 3.8\n",
    "s = \"Python Python Java Python\"\n",
    "#s1 = s.replace(\"Python\", \"Python 3.8\")\n",
    "s1 = s.replace(\"Python\", \"Python 3.8\", 1)\n",
    "print(s1)"
   ]
  },
  {
   "cell_type": "code",
   "execution_count": 26,
   "metadata": {},
   "outputs": [
    {
     "name": "stdout",
     "output_type": "stream",
     "text": [
      "c 32\n"
     ]
    }
   ],
   "source": [
    "#which char is present max number of times\n",
    "\n",
    "s = \"acbcejbcjeccccbcjbejcccccceceefefefecccggcccccccccccccc\"\n",
    "max_char = \"\"\n",
    "max_value = 0\n",
    "for char in s:\n",
    "    char_count = s.count(char)\n",
    "    #print(char,s.count(char))\n",
    "    if char_count >= max_value:\n",
    "        max_value, max_char = char_count, char\n",
    "        \n",
    "print(max_char, max_value)"
   ]
  },
  {
   "cell_type": "code",
   "execution_count": 27,
   "metadata": {},
   "outputs": [
    {
     "name": "stdout",
     "output_type": "stream",
     "text": [
      "pythOn Is EAsy tO lEArn\n"
     ]
    }
   ],
   "source": [
    "#print vowel letters into capitals\n",
    "\n",
    "s=\"python is easy to learn\"\n",
    "output = \"\"\n",
    "for char in s:\n",
    "    if char in \"aeiou\":\n",
    "        s = s.replace(char, char.upper())\n",
    "print(s)"
   ]
  },
  {
   "cell_type": "code",
   "execution_count": 41,
   "metadata": {},
   "outputs": [
    {
     "name": "stdout",
     "output_type": "stream",
     "text": [
      "False\n",
      "True\n",
      "True\n",
      "False\n",
      "True\n"
     ]
    }
   ],
   "source": [
    "#isalpha, isdigit, isalnum, isspace\n",
    "\n",
    "s = \"ab cd\"\n",
    "print(s.isalpha())\n",
    "\n",
    "ss = \"1234\"\n",
    "print(ss.isdigit())\n",
    "\n",
    "sss = \"123apl\"  #sss = \"123@epr\"\n",
    "print(sss.isalnum())\n",
    "\n",
    "space = \"  \"\n",
    "space1 = \"\\t\"\n",
    "print(space.isspace())\n",
    "print(space1.isspace())"
   ]
  },
  {
   "cell_type": "code",
   "execution_count": 36,
   "metadata": {},
   "outputs": [
    {
     "name": "stdout",
     "output_type": "stream",
     "text": [
      "12\n"
     ]
    }
   ],
   "source": [
    "s1 = \"12\"\n",
    "if s1.isdigit():\n",
    "    print(int(s1))\n",
    "else:\n",
    "    print(\"not valid\")"
   ]
  },
  {
   "cell_type": "code",
   "execution_count": 44,
   "metadata": {
    "scrolled": true
   },
   "outputs": [
    {
     "name": "stdout",
     "output_type": "stream",
     "text": [
      "       Python is easy      \n",
      "Python is easy\n",
      "Python is easy\n"
     ]
    }
   ],
   "source": [
    "s = \"       Python is easy      \"\n",
    "s1 = \"@@@@@Python is easy@@@@@\"\n",
    "s2 = s.strip(\" \")\n",
    "s3 = s1.strip(\"@\")\n",
    "print(s)\n",
    "print(s2)\n",
    "print(s3)"
   ]
  },
  {
   "cell_type": "markdown",
   "metadata": {},
   "source": [
    "## Session 7"
   ]
  },
  {
   "cell_type": "code",
   "execution_count": 4,
   "metadata": {},
   "outputs": [],
   "source": [
    "#List\n",
    "\n",
    "#List are hetrogenius. We can store any data type including list under list, string, tuple, dict\n",
    "#Mutable - add/update/delete\n",
    "#supports Indexing & Slicing\n",
    "\n",
    "#No programming languages give flexibility to add values in middle. Incase of extend/append, we can add value only at last or\n",
    "# we can add only one value\n"
   ]
  },
  {
   "cell_type": "code",
   "execution_count": 13,
   "metadata": {},
   "outputs": [
    {
     "name": "stdout",
     "output_type": "stream",
     "text": [
      "['python', 'java', 10, 20, 30, [100, 200, 300], {1: 1, 2: 2}, None]\n",
      "python\n",
      "p\n",
      "200\n",
      "[200, 300]\n"
     ]
    }
   ],
   "source": [
    "l = [\"python\", \"java\",10,20,30, [100,200,300],{1:1,2:2}, None]\n",
    "print(l)\n",
    "print(l[0]) #Indexing starts with individual word like Python (not like strings with each character)\n",
    "print(l[0][0]) \n",
    "print(l[5][1]) #OR   print(l[-3][2])  #or   print(l[-3],[-2])  #index from backward starts with 1\n",
    "print(l[5][1:])  #get indexing of 200,300 in the list under list\n",
    "\n",
    "help(list)\n",
    "print(dir(list))   #functions in list"
   ]
  },
  {
   "cell_type": "code",
   "execution_count": 16,
   "metadata": {},
   "outputs": [
    {
     "name": "stdout",
     "output_type": "stream",
     "text": [
      "1960835118984\n",
      "1960835118984\n",
      "[10, 20, 30, 40, [50, 60]]\n"
     ]
    }
   ],
   "source": [
    "#add new element in List\n",
    "\n",
    "#Add function for list: append, extend, insert\n",
    "#Update function for List: \n",
    "     l[index] = new_value\n",
    "\n",
    "#append - append will not return any value like in string, we need to asssign a new variable to add/replace a string\n",
    "          #as string is a immutable \n",
    "          #Example string: we use replace()\n",
    "\n",
    "l = [10,20,30]\n",
    "print(id(l))\n",
    "l.append(40)   \n",
    "print(id(l))   #same memory location thatswhy list is mutable data type\n",
    "\n",
    "#l.append(40,50)  #Output shows error as append can add only one element at a time\n",
    "\n",
    "l.append([50,60])  #It will add the element in the last. Here we are adding a list so only one value [50,60]\n",
    "print(l)"
   ]
  },
  {
   "cell_type": "code",
   "execution_count": 20,
   "metadata": {},
   "outputs": [
    {
     "name": "stdout",
     "output_type": "stream",
     "text": [
      "[10, 20, 30, 40, 50, 60]\n",
      "[10, 20, 30, 40, 50, 60, 'P', 'y', 't', 'h', 'o', 'n']\n"
     ]
    }
   ],
   "source": [
    "#extend - if we want to add multiple elements then we go for extend\n",
    "#same as append, it will modify in the same location. it will not create new address/location\n",
    "#extend will add the element at the end and it will add like 'for' loop adding one element in one iteration\n",
    "\n",
    "l1 = [10,20,30]\n",
    "l2 = [40,50,60]\n",
    "l1.extend(l2)\n",
    "print(l1)\n",
    "\n",
    "l3 = \"Python\"\n",
    "l1.extend(l3)\n",
    "print(l1)\n",
    "\n",
    "#l4 = 1000\n",
    "#l1.extend(l4)\n",
    "#print(l1)  # error output - int can't be iterable\n",
    "\n"
   ]
  },
  {
   "cell_type": "code",
   "execution_count": 25,
   "metadata": {},
   "outputs": [
    {
     "name": "stdout",
     "output_type": "stream",
     "text": [
      "[-10, 10, 20, 30, 40, -20, 50]\n",
      "[-10, 10, 20, 30, 40, -20, 50, 20]\n",
      "[[10, 20], -10, 10, 20, 30, 40, -20, 50, 20]\n"
     ]
    }
   ],
   "source": [
    "#insert - it we add new element in specific location\n",
    "\n",
    "l1 = [10,20,30,40,50]\n",
    "l1.insert(0,-10)  #insert(0,10) -> 0 - which location & 10-> new value to add\n",
    "l1.insert(-1,-20)\n",
    "print(l1)\n",
    "l1.insert(100,20)\n",
    "print(l1)\n",
    "l1.insert(0, [10,20])\n",
    "print(l1)"
   ]
  },
  {
   "cell_type": "code",
   "execution_count": 27,
   "metadata": {},
   "outputs": [
    {
     "name": "stdout",
     "output_type": "stream",
     "text": [
      "[1, 2, 3, 4, 5, 6, 7, 8, 9]\n"
     ]
    }
   ],
   "source": [
    "l = [[1,2,3],[4,5,6],[7,8,9]]\n",
    "#l2 = [1,2,3,4,5,6,7,8,9] - output should print like this\n",
    "\n",
    "l2 = []\n",
    "for value in l:\n",
    "    for value1 in value:\n",
    "        l2.append(value1)\n",
    "print(l2)\n",
    "\n",
    "#(OR)\n",
    "\n",
    "# for value in l:\n",
    "#     l2.extend(value)\n",
    "# print(l2)"
   ]
  },
  {
   "cell_type": "code",
   "execution_count": 28,
   "metadata": {},
   "outputs": [
    {
     "name": "stdout",
     "output_type": "stream",
     "text": [
      "(10, 100, 'P')\n",
      "(20, 200, 'y')\n",
      "(30, 300, 't')\n",
      "(40, 400, 'h')\n"
     ]
    }
   ],
   "source": [
    "#zip function - Combine multiple iterable elements\n",
    "\n",
    "l = [10,20,30,40]\n",
    "l1 = [100,200,300,400]\n",
    "s = \"PythonJava\"\n",
    "for value in zip(l,l1,s):\n",
    "    print(value)"
   ]
  },
  {
   "cell_type": "code",
   "execution_count": 42,
   "metadata": {},
   "outputs": [
    {
     "name": "stdout",
     "output_type": "stream",
     "text": [
      "[[101, 202, 303], [404, 505, 606], [707, 808, 909]]\n"
     ]
    }
   ],
   "source": [
    "l1 = [[1,2,3],[4,5,6],[7,8,9]]\n",
    "l2 = [[100,200,300],[400,500,600],[700,800,900]]\n",
    "#l3 = [[101,202,303],[404,505,606],[707,808,909]]\n",
    "l3 = []\n",
    "for list1,list2 in zip(l1,l2):\n",
    "    #print(list1,list2)\n",
    "    temp = []\n",
    "    for val1,val2 in zip(list1,list2):\n",
    "        temp.append(val1+val2)\n",
    "    l3.append(temp)\n",
    "    \n",
    "    \n",
    "print(l3)\n"
   ]
  },
  {
   "cell_type": "code",
   "execution_count": null,
   "metadata": {},
   "outputs": [],
   "source": [
    "#Update in list:\n",
    "     l[index] = new_value"
   ]
  },
  {
   "cell_type": "code",
   "execution_count": 31,
   "metadata": {},
   "outputs": [
    {
     "name": "stdout",
     "output_type": "stream",
     "text": [
      "[10, 20, 300, 40]\n"
     ]
    }
   ],
   "source": [
    "l = [10,20,30,40]\n",
    "l[2]= 300\n",
    "print(l)"
   ]
  },
  {
   "cell_type": "code",
   "execution_count": null,
   "metadata": {},
   "outputs": [],
   "source": [
    "#Delete in list:\n",
    "     pop - removes the last element in the list\n",
    "     remove - removes value on basis of given/mentioned value\n",
    "     clear - if you want to clear all the values in the list to make it empty\n",
    "     del - removes the list completely including the reference of the list"
   ]
  },
  {
   "cell_type": "code",
   "execution_count": 35,
   "metadata": {},
   "outputs": [
    {
     "name": "stdout",
     "output_type": "stream",
     "text": [
      "[10, 20, 30]\n",
      "[10, 30]\n"
     ]
    }
   ],
   "source": [
    "#pop:\n",
    "l = [10,20,30,40]\n",
    "l.pop()\n",
    "print(l)\n",
    "\n",
    "l.pop(1)   #by default, it will remove last value in list. If specified the index, it will remove the mentioned index\n",
    "print(l)\n",
    "\n",
    "#l.pop(20) #Indexerror - can't give value directly\n",
    "#l.pop(1,2) #pop can only remove one value at a time"
   ]
  },
  {
   "cell_type": "code",
   "execution_count": 42,
   "metadata": {},
   "outputs": [
    {
     "name": "stdout",
     "output_type": "stream",
     "text": [
      "[10, 30, 40]\n",
      "[10, 30, 40, 50, 20, 90]\n"
     ]
    }
   ],
   "source": [
    "#remove:\n",
    "l = [10,20,30,40]\n",
    "l.remove(20)\n",
    "print(l)\n",
    "#l.remove(200) #valueError, if value is not present in list\n",
    "ll = [10,20,30,40,50,20,90]\n",
    "ll.remove(20)\n",
    "print(ll)  #it will remove only first occurance value in list if value present two time in the list\n"
   ]
  },
  {
   "cell_type": "code",
   "execution_count": 46,
   "metadata": {},
   "outputs": [
    {
     "name": "stdout",
     "output_type": "stream",
     "text": [
      "[]\n",
      "[10]\n"
     ]
    }
   ],
   "source": [
    "#clear\n",
    "l = [10,20,30,40]\n",
    "l.clear()\n",
    "print(l) #list exists even after clearing the values\n",
    "l.append(10)\n",
    "print(l) #clear removes only the values, we can add values if needed"
   ]
  },
  {
   "cell_type": "code",
   "execution_count": 47,
   "metadata": {},
   "outputs": [],
   "source": [
    "#del\n",
    "l = [10,20,30,40]\n",
    "del l #list l is permanently deleted\n",
    "#print(l) #NameError - as list is completly deleted including the reference"
   ]
  },
  {
   "cell_type": "code",
   "execution_count": 54,
   "metadata": {},
   "outputs": [
    {
     "name": "stdout",
     "output_type": "stream",
     "text": [
      "2858104536840 2858104804424\n",
      "2858106775688 2858106775688\n",
      "[10, 20, 30, 40, 50]\n",
      "2858105046152 2858101084552\n",
      "[10, 20, 30, 40]\n"
     ]
    }
   ],
   "source": [
    "#memory allocation of list:\n",
    "\n",
    "l1 = [10,20,30,40]\n",
    "l2 = [10,20,30,40]\n",
    "print(id(l1),id(l2))\n",
    "\n",
    "l11 = [10,20,30,40]\n",
    "l22 = l11\n",
    "print(id(l11),id(l22))\n",
    "l11.append(50)\n",
    "print(l22)  #this is called Shallow copy. One of the drawbacks of list. to overcome this issue, we have a function 'copy'\n",
    "\n",
    "l12 = [10,20,30,40]\n",
    "l13 = l12.copy()\n",
    "print(id(l12),id(l13))\n",
    "l12.append(50)\n",
    "print(l13) #new value is not copied. This is called deep copy"
   ]
  },
  {
   "cell_type": "markdown",
   "metadata": {},
   "source": [
    "## Session 8"
   ]
  },
  {
   "cell_type": "code",
   "execution_count": 113,
   "metadata": {},
   "outputs": [
    {
     "name": "stdout",
     "output_type": "stream",
     "text": [
      "[10, 20, 30, 40, 50, 60]\n",
      "prints two time [10, 20, 30, 10, 20, 30]\n",
      "[10, 20, 30, 40, 50, 60]\n"
     ]
    }
   ],
   "source": [
    "#list\n",
    "l1 = [10,20,30]\n",
    "l2 = [40,50,60]\n",
    "print(l1+l2)\n",
    "print(\"prints two time\",l1 * 2) #prints l1 two times\n",
    "# print(l1 - l2)\n",
    "# print(l1 * l2) -,*,/ - operations won't work on a list except + (addition)\n",
    "# print(l1 /l2)\n",
    "\n",
    "\n",
    "\n",
    "l1 = [10,20,30]\n",
    "l2 = [40,50,60]\n",
    "l1.extend(l2)\n",
    "print(l1) #Here both the concatination output are same but above (l1+l2) have their values unchanged but extend change the value of l1\n"
   ]
  },
  {
   "cell_type": "code",
   "execution_count": 115,
   "metadata": {},
   "outputs": [
    {
     "name": "stdout",
     "output_type": "stream",
     "text": [
      "5\n"
     ]
    }
   ],
   "source": [
    "#to find length - len()\n",
    "l1 = [10,20,30,40,\"python\"]\n",
    "print(len(l1))"
   ]
  },
  {
   "cell_type": "code",
   "execution_count": 119,
   "metadata": {},
   "outputs": [
    {
     "name": "stdout",
     "output_type": "stream",
     "text": [
      "[2, 10, 20, 20, 40, 50, 56, 100]\n"
     ]
    }
   ],
   "source": [
    "#sort in list\n",
    "l = [20,40,20,50,100,10,2,56]\n",
    "l.sort()  #reverse -> l.sort(reverse=True)\n",
    "print(l)"
   ]
  },
  {
   "cell_type": "code",
   "execution_count": 120,
   "metadata": {},
   "outputs": [
    {
     "name": "stdout",
     "output_type": "stream",
     "text": [
      "['__add__', '__class__', '__contains__', '__delattr__', '__dir__', '__doc__', '__eq__', '__format__', '__ge__', '__getattribute__', '__getitem__', '__getnewargs__', '__gt__', '__hash__', '__init__', '__init_subclass__', '__iter__', '__le__', '__len__', '__lt__', '__mul__', '__ne__', '__new__', '__reduce__', '__reduce_ex__', '__repr__', '__rmul__', '__setattr__', '__sizeof__', '__str__', '__subclasshook__', 'count', 'index']\n"
     ]
    }
   ],
   "source": [
    "#tuple: \n",
    "    #()\n",
    "    #Immutable\n",
    "    #Iterable\n",
    "    \n",
    "print(dir(tuple))"
   ]
  },
  {
   "cell_type": "code",
   "execution_count": 1,
   "metadata": {},
   "outputs": [
    {
     "name": "stdout",
     "output_type": "stream",
     "text": [
      "2858077053480\n",
      "2858077053384\n"
     ]
    }
   ],
   "source": [
    "t = (10,20,30,40,50)\n",
    "print(id(t))\n",
    "t = (100,200,300,400,500)\n",
    "print(id(t))"
   ]
  },
  {
   "cell_type": "code",
   "execution_count": 121,
   "metadata": {},
   "outputs": [
    {
     "name": "stdout",
     "output_type": "stream",
     "text": [
      "(0, 10)\n",
      "(1, 20)\n",
      "(2, 30)\n",
      "(3, 40)\n",
      "(4, 50)\n"
     ]
    }
   ],
   "source": [
    "l = [10,20,30,40,50]\n",
    "for I in enumerate(l):\n",
    "    print(I)  #output is printed in Tuple with List input\n"
   ]
  },
  {
   "cell_type": "code",
   "execution_count": 122,
   "metadata": {},
   "outputs": [
    {
     "name": "stdout",
     "output_type": "stream",
     "text": [
      "(10, 20)\n"
     ]
    }
   ],
   "source": [
    "x= 10,20   #whenever you use a default value, python will return tuple\n",
    "print(x)"
   ]
  },
  {
   "cell_type": "code",
   "execution_count": 127,
   "metadata": {},
   "outputs": [
    {
     "name": "stdout",
     "output_type": "stream",
     "text": [
      "('Python', 10, 20, 30, [10, 20, 30, 1000])\n"
     ]
    }
   ],
   "source": [
    "t = (\"Python\",10,20,30,[10,20,30])\n",
    "t[-1].append(1000)  #tuples are immutable but it is getting updated. It is getting updated in List\n",
    "print(t)\n"
   ]
  },
  {
   "cell_type": "code",
   "execution_count": null,
   "metadata": {},
   "outputs": [],
   "source": []
  },
  {
   "cell_type": "code",
   "execution_count": null,
   "metadata": {},
   "outputs": [],
   "source": [
    "#Dict: {key:value}\n",
    " # Mutable - add, update, delete allowed\n",
    " # {\"name\":\"ABC\",\"Email\":\"abc@xyz.com\"}\n",
    " # In list, indexing is sequential(one by one) time consuming so we go for dictionary\n",
    " # In dictionary, it will give hash index to key and it is easy to find the index\n",
    " # Better performance in terms of searching\n",
    " # keys should be immutable"
   ]
  },
  {
   "cell_type": "code",
   "execution_count": 2,
   "metadata": {},
   "outputs": [
    {
     "name": "stdout",
     "output_type": "stream",
     "text": [
      "{'name': 'ABC', 'Email': 'abc@xyz.com'}\n"
     ]
    }
   ],
   "source": [
    "d = {\"name\":\"ABC\",\"Email\":\"abc@xyz.com\"}\n",
    "print(d)\n",
    "\n",
    "#key: name & Email\n",
    "#value: ABC & abc@xyz.com\n",
    "\n",
    "#In dictionary, the keys are stored as Hash(name) = Hash index\n",
    "\n",
    "hashindex  Key   Value\n",
    "12345      name  ABC\n",
    "12344      email abc@xyz.com\n",
    "\n",
    "#value of name will pick like -> hash(\"name\") => Hash Index => go to this index & fetch the value"
   ]
  },
  {
   "cell_type": "code",
   "execution_count": null,
   "metadata": {},
   "outputs": [],
   "source": [
    "#Rules in Dictionary:\n",
    "  - all keys should be unique - No duplications allowed\n",
    "  - all the keys should be immutable => str, int, tuple, float\n",
    "  - unordered => indexing and slicing (based on hash keys it will find the data)\n",
    "  - \n"
   ]
  },
  {
   "cell_type": "code",
   "execution_count": 3,
   "metadata": {},
   "outputs": [
    {
     "name": "stdout",
     "output_type": "stream",
     "text": [
      "-7871428263170324050\n"
     ]
    }
   ],
   "source": [
    "#to find hash value -> we will not use in programming but good to know\n",
    "name = \"python\"\n",
    "print(hash(name))"
   ]
  },
  {
   "cell_type": "code",
   "execution_count": 4,
   "metadata": {},
   "outputs": [
    {
     "name": "stdout",
     "output_type": "stream",
     "text": [
      "ABC\n"
     ]
    }
   ],
   "source": [
    "d = {\"name\":\"ABC\",\"Email\":\"abc@xyz.com\"}\n",
    "print(d[\"name\"])  #we can find the value only by using key"
   ]
  },
  {
   "cell_type": "code",
   "execution_count": 16,
   "metadata": {},
   "outputs": [
    {
     "name": "stdout",
     "output_type": "stream",
     "text": [
      "{'name': 'ABC', 'Email': 'abc@xyz.com', 'namee': 'ABCDDD'}\n",
      "ABC\n",
      "None\n",
      "Not Specified\n"
     ]
    }
   ],
   "source": [
    "d = {\"name\":\"ABC\",\"Email\":\"abc@xyz.com\",\"Employee\":\"ABCDDD\"}  #duplicate key not allowed\n",
    "print(d)  #second duplicate key is considered from 3.7 python version\n",
    "\n",
    "#dd = {\"name\":\"ABC\",\"Email\":\"abc@xyz.com\",\"name\":\"ABCDDD\",[10,20,30]:\"python\"}  #cannot add list in dictionary\n",
    "#print(dd) #keys should be immutable, list is mutable\n",
    "\n",
    "#print(d[\"salary\"])  #keyerror - key not present in dictionary\n",
    "print(d.get(\"name\"))\n",
    "print(d.get(\"salary\"))  #None is output - if key is not present\n",
    "print(d.get(\"salary\",\"Not Specified\")) #In output we can find some understandable format like a message if key is not specified"
   ]
  },
  {
   "cell_type": "code",
   "execution_count": 18,
   "metadata": {},
   "outputs": [
    {
     "name": "stdout",
     "output_type": "stream",
     "text": [
      "ABC\n",
      "ABC\n",
      "None\n",
      "ABC\n",
      "{'name': 'ABC', 'Email': 'abc@xyz.com', 'Employee': 'ABCDDD', 'salary': None}\n"
     ]
    }
   ],
   "source": [
    "d = {\"name\":\"ABC\",\"Email\":\"abc@xyz.com\",\"Employee\":\"ABCDDD\"}\n",
    "print(d.get(\"name\"))\n",
    "print(d.setdefault(\"name\"))\n",
    "print(d.setdefault(\"salary\")) #it will add the default value as None. In get, it will give only as None\n",
    "print(d.setdefault(\"name\",\"Sasi\")) #it will only add if value is not present. or else it will return default value\n",
    "print(d)"
   ]
  },
  {
   "cell_type": "code",
   "execution_count": 20,
   "metadata": {},
   "outputs": [
    {
     "name": "stdout",
     "output_type": "stream",
     "text": [
      "{'name': 'ABC', 'Email': 'abc@xyz.com', 'Employee': 'ABCDDD', 'salary': 5000}\n",
      "{'name': 'ABC', 'Email': 'abc@xyz.com', 'Employee': 'ABCDDD', 'salary': 7000}\n"
     ]
    }
   ],
   "source": [
    "#by using \"setdefault\" we can add new value\n",
    "# second method of adding new value is declaring it will dictionary name (check below example)\n",
    "d = {\"name\":\"ABC\",\"Email\":\"abc@xyz.com\",\"Employee\":\"ABCDDD\"}\n",
    "d[\"salary\"]=5000\n",
    "print(d)\n",
    "\n",
    "d[\"salary\"]=7000   #Salary value gets updated\n",
    "print(d)"
   ]
  },
  {
   "cell_type": "code",
   "execution_count": 26,
   "metadata": {},
   "outputs": [
    {
     "name": "stdout",
     "output_type": "stream",
     "text": [
      "{'a': 97, 'b': 98, 'c': 99, 'd': 100, 'e': 101, 'f': 102, 'g': 103, 'h': 104, 'i': 105, 'j': 106, 'k': 107, 'l': 108, 'm': 109, 'n': 110, 'o': 111, 'p': 112, 'q': 113, 'r': 114, 's': 115, 't': 116, 'u': 117, 'v': 118, 'w': 119, 'x': 120, 'y': 121, 'z': 122}\n"
     ]
    }
   ],
   "source": [
    "#ord('a') => 97  (ASCII Value)\n",
    "#chr(97) => 'a'   (Alpha value)\n",
    "\n",
    "#print like d = {\"a\"=97,.....\"z\"=122}\n",
    "\n",
    "d={}\n",
    "for value in range(ord('a'), ord('z')+1):     #+1 is used to add 'z' value (Range is always n to n-1)\n",
    "    #print(value)\n",
    "    d.setdefault(chr(value),value)\n",
    "print(d)\n"
   ]
  },
  {
   "cell_type": "code",
   "execution_count": 29,
   "metadata": {},
   "outputs": [
    {
     "name": "stdout",
     "output_type": "stream",
     "text": [
      "{1: 1, 2: 4, 3: 9, 4: 16, 5: 25, 6: 36, 7: 49, 8: 64, 9: 81, 10: 100, 11: 121, 12: 144, 13: 169, 14: 196, 15: 225, 16: 256, 17: 289, 18: 324, 19: 361, 20: 400}\n"
     ]
    }
   ],
   "source": [
    "# 1:1, 2:4,....20:400\n",
    "\n",
    "d={}\n",
    "for value in range(1,21):\n",
    "    #print(value)\n",
    "    d.setdefault(value,value**2)\n",
    "print(d)\n"
   ]
  },
  {
   "cell_type": "markdown",
   "metadata": {},
   "source": [
    "## Session 9"
   ]
  },
  {
   "cell_type": "code",
   "execution_count": 58,
   "metadata": {},
   "outputs": [
    {
     "name": "stdout",
     "output_type": "stream",
     "text": [
      "1 1\n",
      "2 4\n",
      "3 9\n",
      "4 16\n"
     ]
    }
   ],
   "source": [
    "d = {1:1,2:4,3:9,4:16}\n",
    "for x in d:\n",
    "   # print(x)  #print keys #for loop always give key for dictionaries\n",
    "    print(x,d.get(x))"
   ]
  },
  {
   "cell_type": "code",
   "execution_count": null,
   "metadata": {},
   "outputs": [],
   "source": [
    "#keys\n",
    "#values\n",
    "#items"
   ]
  },
  {
   "cell_type": "code",
   "execution_count": 66,
   "metadata": {},
   "outputs": [
    {
     "name": "stdout",
     "output_type": "stream",
     "text": [
      "dict_keys([1, 2, 3, 4])\n",
      "dict_values([1, 4, 9, 16])\n",
      "dict_items([(1, 1), (2, 4), (3, 9), (4, 16)])\n",
      "1 1\n",
      "2 4\n",
      "3 9\n",
      "4 16\n"
     ]
    }
   ],
   "source": [
    "#keys:\n",
    "d = {1:1,2:4,3:9,4:16}\n",
    "print(d.keys()) #prints keys\n",
    "print(d.values()) #prints values\n",
    "print(d.items()) #prints key & values #items is used when we use any iterate operator (for loop)\n",
    "\n",
    "for key,value in d.items():\n",
    "    print(key,value)  \n",
    "   # print(key) #prints only key\n",
    "   # print(value) #print only value\n"
   ]
  },
  {
   "cell_type": "code",
   "execution_count": 82,
   "metadata": {},
   "outputs": [
    {
     "name": "stdout",
     "output_type": "stream",
     "text": [
      "{(1, 10): 0, (11, 20): 1, (21, 30): 2, (31, 40): 0, (41, 50): 1, (51, 60): 0, (61, 70): 0, (71, 80): 1, (81, 90): 1, (91, 100): 0}\n"
     ]
    }
   ],
   "source": [
    "# print {(1,10): 0, (11,20):0, (21,30):0.....(91,100):0}\n",
    "\n",
    "d = {}\n",
    "for key in zip(range(1,92,10),range(10,101,10)):\n",
    "    #print(value)\n",
    "    d.setdefault(key,0)\n",
    "#print(d)\n",
    "\n",
    "l = [15,25,25,45,80,85]\n",
    "for num in l:\n",
    "    for key in d:\n",
    "        if num>= key[0] and num<= key[1]:\n",
    "            d[key] = d.get(key)+1\n",
    "            break\n",
    "print(d)"
   ]
  },
  {
   "cell_type": "code",
   "execution_count": null,
   "metadata": {},
   "outputs": [],
   "source": [
    "#delete in dictionary:\n",
    "\n",
    "pop - removes on basis of keys (We will only use pop in real-time)\n",
    "popitem - removes last keys & value\n",
    "clear - clear all the keys & values\n",
    "del - empty dictionary - deletes everything"
   ]
  },
  {
   "cell_type": "code",
   "execution_count": 83,
   "metadata": {},
   "outputs": [
    {
     "name": "stdout",
     "output_type": "stream",
     "text": [
      "{1: 1, 3: 9, 4: 16} 4\n",
      "{1: 1, 3: 9} (4, 16)\n"
     ]
    }
   ],
   "source": [
    "d = {1:1,2:4,3:9,4:16}\n",
    "r = d.pop(2)\n",
    "print(d,r)\n",
    "\n",
    "r= d.popitem()\n",
    "print(d,r)"
   ]
  },
  {
   "cell_type": "code",
   "execution_count": 84,
   "metadata": {},
   "outputs": [
    {
     "name": "stdout",
     "output_type": "stream",
     "text": [
      "{1: 1, 2: 4, 3: 9, 4: 4, 5: 5, 6: 7}\n"
     ]
    }
   ],
   "source": [
    "l1 = [1,2,3,4,5,6]\n",
    "l2 = [1,4,9,4,5,7]\n",
    "d = dict(zip(l1,l2))\n",
    "print(d)"
   ]
  },
  {
   "cell_type": "code",
   "execution_count": 89,
   "metadata": {},
   "outputs": [
    {
     "name": "stdout",
     "output_type": "stream",
     "text": [
      "{1: 1, 2: 2, 5: 3, 4: 5}\n",
      "['__class__', '__contains__', '__delattr__', '__delitem__', '__dir__', '__doc__', '__eq__', '__format__', '__ge__', '__getattribute__', '__getitem__', '__gt__', '__hash__', '__init__', '__init_subclass__', '__iter__', '__le__', '__len__', '__lt__', '__ne__', '__new__', '__reduce__', '__reduce_ex__', '__repr__', '__setattr__', '__setitem__', '__sizeof__', '__str__', '__subclasshook__', 'clear', 'copy', 'fromkeys', 'get', 'items', 'keys', 'pop', 'popitem', 'setdefault', 'update', 'values']\n"
     ]
    }
   ],
   "source": [
    "d1 = {1:1,2:2}\n",
    "d2 = {5:3,4:5}\n",
    "d1.update(d2)  #merge two dictionaries. If duplicates, will update second value\n",
    "print(d1)\n",
    " \n",
    "#print(d1+d2)  # + won't work in dictionary\n",
    "\n",
    "print(dir(dict))   #can't see __add__ so we can't perform this operation"
   ]
  },
  {
   "cell_type": "code",
   "execution_count": null,
   "metadata": {},
   "outputs": [],
   "source": [
    "# Set data type:\n",
    "   - Unique values, no duplicates allowed\n",
    "   - a = {2,3,4} # declaring a set\n",
    "   - Will get treat like dictionary same rules apply {10:None,20:None,30:None,40:None}\n",
    "   - all the elements in set should be immutable\n",
    "   - will not support indexing and slicing\n",
    "   - sets are mutable\n",
    "   - no order in printing output"
   ]
  },
  {
   "cell_type": "code",
   "execution_count": 95,
   "metadata": {},
   "outputs": [
    {
     "name": "stdout",
     "output_type": "stream",
     "text": [
      "{1, 2, 3, 4, 5, 7, 8}\n"
     ]
    }
   ],
   "source": [
    "## s = {1,2,4,5,1,5,3,5,2,1,5,7,8}\n",
    "print(s)"
   ]
  },
  {
   "cell_type": "code",
   "execution_count": 97,
   "metadata": {},
   "outputs": [
    {
     "name": "stdout",
     "output_type": "stream",
     "text": [
      "[10, 20, 30, 40, 50, 60]\n"
     ]
    }
   ],
   "source": [
    "l = [10,20,30,40,40,50,60]\n",
    "s = set(l)  #list to set\n",
    "l1 = list(s) #set to list\n",
    "l1.sort()\n",
    "print(l1)"
   ]
  },
  {
   "cell_type": "code",
   "execution_count": 99,
   "metadata": {},
   "outputs": [
    {
     "name": "stdout",
     "output_type": "stream",
     "text": [
      "<class 'set'>\n"
     ]
    }
   ],
   "source": [
    "# to declare empty set\n",
    "s = set()\n",
    "print(type(s))"
   ]
  },
  {
   "cell_type": "code",
   "execution_count": null,
   "metadata": {},
   "outputs": [],
   "source": [
    "s1 = {10,20,30,40,50}\n",
    "s2 = {10,70,90,100,20}\n",
    "\n",
    "s1 union s2 = {10,20,30,40,50,70.90,100} #removes duplicates\n",
    "s1 intersection s2 = {10,20} #common values\n",
    "s1 difference s2 = {30,40,50} #not present values in s2 in s1\n",
    "s2 difference s1 = {70,90,100}\n",
    "\n",
    "s1 symmetric difference s2 = {30,40,50,90,100} #prints everything except common values\n",
    "\n",
    "s3 = {10,20}\n",
    "s3 is subset of s1\n",
    "s1 is superset of s3"
   ]
  },
  {
   "cell_type": "code",
   "execution_count": 105,
   "metadata": {},
   "outputs": [
    {
     "name": "stdout",
     "output_type": "stream",
     "text": [
      "{70, 40, 10, 80, 50, 20, 90, 60, 30}\n",
      "{40, 50, 60}\n",
      "{10, 20, 30}\n",
      "{80, 90, 70}\n",
      "{70, 10, 80, 20, 90, 30}\n"
     ]
    }
   ],
   "source": [
    "s1 = {10,20,30,40,50,60}\n",
    "s2 = {40,50,60,70,80,90}\n",
    "\n",
    "s3 = s1.union(s2)\n",
    "print(s3)\n",
    "\n",
    "s4 = s1.intersection(s2)\n",
    "print(s4)\n",
    "\n",
    "s5 = s1.difference(s2)\n",
    "print(s5)\n",
    "\n",
    "s6 = s2.difference(s1)\n",
    "print(s6)\n",
    "\n",
    "\n",
    "s7 = s1.symmetric_difference(s2)\n",
    "print(s7)\n"
   ]
  },
  {
   "cell_type": "code",
   "execution_count": 107,
   "metadata": {},
   "outputs": [
    {
     "name": "stdout",
     "output_type": "stream",
     "text": [
      "True\n",
      "True\n",
      "False\n"
     ]
    }
   ],
   "source": [
    "s1 = {10,20,30,40,50,60}\n",
    "s2 = {40,50,60,70,80,90}\n",
    "s3 = {10,20}   \n",
    "\n",
    "print(s3.issubset(s1))\n",
    "print(s1.issuperset(s3))\n",
    "\n",
    "print(s3.issubset(s2))\n"
   ]
  },
  {
   "cell_type": "code",
   "execution_count": null,
   "metadata": {},
   "outputs": [],
   "source": [
    "#sorted - gives output as list. We can use sorted for any data type but it gives data in list data type\n",
    "s1 = {10,20,30,40,50,60}\n",
    "print(s1)\n",
    "l = sorted(s1)   #to print descending l = sorted(s1,reverse=True)\n",
    "print(l)"
   ]
  },
  {
   "cell_type": "code",
   "execution_count": null,
   "metadata": {},
   "outputs": [],
   "source": [
    "#delete in set\n",
    "\n",
    "del - same as dict\n",
    "clear - same as dict\n",
    "pop - it will delete any value randomly within set\n",
    "remove - removes on basis of elements.\n",
    "discard - will work like remove but if we enter any value which is not present in set, it will act like it has deleted nothing\n"
   ]
  },
  {
   "cell_type": "code",
   "execution_count": 108,
   "metadata": {
    "scrolled": true
   },
   "outputs": [
    {
     "name": "stdout",
     "output_type": "stream",
     "text": [
      "{40, 10, 50, 30}\n",
      "{40, 10, 50, 30}\n"
     ]
    }
   ],
   "source": [
    "s1 = {10,20,30,40,50}\n",
    "s1.remove(20)\n",
    "s1.remove(200)  #throws keyerror as value is not present\n",
    "print(s1)\n",
    "\n",
    "s1.discard(200)  #value not present but it returns same\n",
    "print(s1)"
   ]
  },
  {
   "cell_type": "markdown",
   "metadata": {},
   "source": [
    "##  ---------------------------------                                          The END               -------------------------------------"
   ]
  }
 ],
 "metadata": {
  "kernelspec": {
   "display_name": "Python 3",
   "language": "python",
   "name": "python3"
  },
  "language_info": {
   "codemirror_mode": {
    "name": "ipython",
    "version": 3
   },
   "file_extension": ".py",
   "mimetype": "text/x-python",
   "name": "python",
   "nbconvert_exporter": "python",
   "pygments_lexer": "ipython3",
   "version": "3.7.6"
  }
 },
 "nbformat": 4,
 "nbformat_minor": 4
}
